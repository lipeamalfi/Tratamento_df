{
 "cells": [
  {
   "cell_type": "markdown",
   "id": "aaff02ff",
   "metadata": {},
   "source": [
    "## Tratando Bases de LCA"
   ]
  },
  {
   "cell_type": "markdown",
   "id": "d6710c88",
   "metadata": {},
   "source": [
    "Importando as bibliotecas"
   ]
  },
  {
   "cell_type": "code",
   "execution_count": 2,
   "id": "4c095d4e",
   "metadata": {},
   "outputs": [],
   "source": [
    "import pandas as pd\n",
    "import os"
   ]
  },
  {
   "cell_type": "markdown",
   "id": "8ee0c17f",
   "metadata": {},
   "source": [
    "Buscando o arquivo csv"
   ]
  },
  {
   "cell_type": "code",
   "execution_count": 4,
   "id": "74bfbaae",
   "metadata": {},
   "outputs": [],
   "source": [
    "source_file = 'arquivo.csv'"
   ]
  },
  {
   "cell_type": "markdown",
   "id": "101955a5",
   "metadata": {},
   "source": [
    "Trocando as vírgulas por pontos e transformando o número de formato científico para numérico"
   ]
  },
  {
   "cell_type": "code",
   "execution_count": 11,
   "id": "a56b5d15",
   "metadata": {},
   "outputs": [],
   "source": [
    "df1 = pd.read_csv(source_file,sep=',')\n",
    "df1['VALOR'] = df1['VALOR'].str.replace(',','.').astype(float)"
   ]
  },
  {
   "cell_type": "markdown",
   "id": "c68d6654",
   "metadata": {},
   "source": [
    "Adicionando a coluna versão e nomeando o arquivo excel"
   ]
  },
  {
   "cell_type": "code",
   "execution_count": null,
   "id": "78662502",
   "metadata": {},
   "outputs": [],
   "source": [
    "ver = input('Digite a versão do arquivo')\n",
    "versao = (ver)\n",
    "df1.assign(\n",
    "    **{'VERSAO': versao})\n",
    "df1.drop(columns='Unnamed: 0').to_csv(ver + '_arquivo.csv')"
   ]
  }
 ],
 "metadata": {
  "kernelspec": {
   "display_name": "Python 3 (ipykernel)",
   "language": "python",
   "name": "python3"
  },
  "language_info": {
   "codemirror_mode": {
    "name": "ipython",
    "version": 3
   },
   "file_extension": ".py",
   "mimetype": "text/x-python",
   "name": "python",
   "nbconvert_exporter": "python",
   "pygments_lexer": "ipython3",
   "version": "3.9.12"
  }
 },
 "nbformat": 4,
 "nbformat_minor": 5
}
